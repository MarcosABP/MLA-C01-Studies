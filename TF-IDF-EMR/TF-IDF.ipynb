{
 "cells": [
  {
   "cell_type": "markdown",
   "id": "96490230-2866-4102-9ca2-dd4516309182",
   "metadata": {},
   "source": [
    "# TD-IDF - Código para medir importância de uma palavra num documento"
   ]
  },
  {
   "cell_type": "markdown",
   "id": "d7eeb875-dede-4525-b2e4-007b57d3b3da",
   "metadata": {
    "execution": {
     "iopub.execute_input": "2025-09-16T00:58:54.194395Z",
     "iopub.status.busy": "2025-09-16T00:58:54.193958Z",
     "iopub.status.idle": "2025-09-16T00:58:54.352349Z",
     "shell.execute_reply": "2025-09-16T00:58:54.351678Z",
     "shell.execute_reply.started": "2025-09-16T00:58:54.194366Z"
    },
    "executionRoleArn": "arn:aws:iam::904233096976:role/service-role/AmazonEMRStudio_RuntimeRole_1757979133869"
   },
   "source": [
    "Importar subset da Wikipedia que está em bucket S3"
   ]
  },
  {
   "cell_type": "code",
   "execution_count": 48,
   "id": "9e44d43e-3540-4b91-ae9a-2c223e60f30c",
   "metadata": {
    "execution": {
     "iopub.execute_input": "2025-09-16T01:02:07.450197Z",
     "iopub.status.busy": "2025-09-16T01:02:07.449751Z",
     "iopub.status.idle": "2025-09-16T01:02:08.356506Z",
     "shell.execute_reply": "2025-09-16T01:02:08.355829Z",
     "shell.execute_reply.started": "2025-09-16T01:02:07.450167Z"
    },
    "executionRoleArn": "arn:aws:iam::904233096976:role/service-role/AmazonEMRStudio_RuntimeRole_1757979133869",
    "tags": []
   },
   "outputs": [
    {
     "data": {
      "application/vnd.jupyter.widget-view+json": {
       "model_id": "9507ed3f190b4e28b42a5b99e5ccba3f",
       "version_major": 2,
       "version_minor": 0
      },
      "text/plain": [
       "VBox()"
      ]
     },
     "metadata": {},
     "output_type": "display_data"
    },
    {
     "data": {
      "application/vnd.jupyter.widget-view+json": {
       "model_id": "",
       "version_major": 2,
       "version_minor": 0
      },
      "text/plain": [
       "FloatProgress(value=0.0, bar_style='info', description='Progress:', layout=Layout(height='25px', width='50%'),…"
      ]
     },
     "metadata": {},
     "output_type": "display_data"
    },
    {
     "name": "stdout",
     "output_type": "stream",
     "text": [
      "+---+--------------------+-------------------+--------------------+\n",
      "|_c0|                 _c1|                _c2|                 _c3|\n",
      "+---+--------------------+-------------------+--------------------+\n",
      "| 12|           Anarchism|2008-12-30 06:23:05|Anarchism (someti...|\n",
      "| 25|              Autism|2008-12-24 20:41:05|Autism is a brain...|\n",
      "| 39|              Albedo|2008-12-29 18:19:09|The albedo of an ...|\n",
      "|290|                   A|2008-12-27 04:33:16|The letter A is t...|\n",
      "|303|             Alabama|2008-12-29 08:15:47|Alabama (formally...|\n",
      "|305|            Achilles|2008-12-30 06:18:01|thumb\\n\\nIn Greek...|\n",
      "|307|     Abraham Lincoln|2008-12-28 20:18:23|Abraham Lincoln (...|\n",
      "|308|           Aristotle|2008-12-29 23:54:48|Aristotle (Greek:...|\n",
      "|309|An American in Paris|2008-09-27 19:29:28|An American in Pa...|\n",
      "|324|       Academy Award|2008-12-28 17:50:43|The Academy Award...|\n",
      "|330|             Actrius|2008-05-23 15:24:32|Actrius (Actresse...|\n",
      "|332|     Animalia (book)|2008-12-18 11:12:34|thumbAnimalia (IS...|\n",
      "|334|International Ato...|2008-11-21 22:40:20|International Ato...|\n",
      "|336|            Altruism|2008-12-27 03:57:17|Altruism is selfl...|\n",
      "|339|            Ayn Rand|2008-12-30 08:03:06|Ayn Rand (,  – Ma...|\n",
      "|340|        Alain Connes|2008-09-03 13:41:39|Alain Connes (bor...|\n",
      "|344|          Allan Dwan|2008-11-14 05:28:58|Allan Dwan (April...|\n",
      "|358|             Algeria|2008-12-29 02:54:36|Algeria (, al-Jaz...|\n",
      "|359|List of character...|2008-12-23 20:20:21|This is a list of...|\n",
      "|569|        Anthropology|2008-12-28 23:04:30|Anthropology (, f...|\n",
      "+---+--------------------+-------------------+--------------------+\n",
      "only showing top 20 rows"
     ]
    }
   ],
   "source": [
    "rawdata = spark.read.options(sep=\"\\t\").csv(\"s3://aws-emr-studio-904233096976-us-east-2/1757979133869/subset-small.tsv\")\n",
    "rawdata.show()"
   ]
  },
  {
   "cell_type": "markdown",
   "id": "3bf8ded9-25a3-490b-9470-6fbcaf581a08",
   "metadata": {},
   "source": [
    "Como o dataset não tem nomes das colunas definidos, faremos manualmente:"
   ]
  },
  {
   "cell_type": "code",
   "execution_count": 49,
   "id": "86430357-08a3-4b6a-89e3-0baef6931362",
   "metadata": {
    "execution": {
     "iopub.execute_input": "2025-09-16T01:02:08.358238Z",
     "iopub.status.busy": "2025-09-16T01:02:08.357812Z",
     "iopub.status.idle": "2025-09-16T01:02:08.718592Z",
     "shell.execute_reply": "2025-09-16T01:02:08.717968Z",
     "shell.execute_reply.started": "2025-09-16T01:02:08.358212Z"
    },
    "executionRoleArn": "arn:aws:iam::904233096976:role/service-role/AmazonEMRStudio_RuntimeRole_1757979133869",
    "tags": []
   },
   "outputs": [
    {
     "data": {
      "application/vnd.jupyter.widget-view+json": {
       "model_id": "9c294fc5f79b4979a185d28012f5aac8",
       "version_major": 2,
       "version_minor": 0
      },
      "text/plain": [
       "VBox()"
      ]
     },
     "metadata": {},
     "output_type": "display_data"
    },
    {
     "data": {
      "application/vnd.jupyter.widget-view+json": {
       "model_id": "",
       "version_major": 2,
       "version_minor": 0
      },
      "text/plain": [
       "FloatProgress(value=0.0, bar_style='info', description='Progress:', layout=Layout(height='25px', width='50%'),…"
      ]
     },
     "metadata": {},
     "output_type": "display_data"
    },
    {
     "name": "stdout",
     "output_type": "stream",
     "text": [
      "+---+--------------------+-------------------+--------------------+\n",
      "| ID|               Title|               Time|            Document|\n",
      "+---+--------------------+-------------------+--------------------+\n",
      "| 12|           Anarchism|2008-12-30 06:23:05|Anarchism (someti...|\n",
      "| 25|              Autism|2008-12-24 20:41:05|Autism is a brain...|\n",
      "| 39|              Albedo|2008-12-29 18:19:09|The albedo of an ...|\n",
      "|290|                   A|2008-12-27 04:33:16|The letter A is t...|\n",
      "|303|             Alabama|2008-12-29 08:15:47|Alabama (formally...|\n",
      "|305|            Achilles|2008-12-30 06:18:01|thumb\\n\\nIn Greek...|\n",
      "|307|     Abraham Lincoln|2008-12-28 20:18:23|Abraham Lincoln (...|\n",
      "|308|           Aristotle|2008-12-29 23:54:48|Aristotle (Greek:...|\n",
      "|309|An American in Paris|2008-09-27 19:29:28|An American in Pa...|\n",
      "|324|       Academy Award|2008-12-28 17:50:43|The Academy Award...|\n",
      "|330|             Actrius|2008-05-23 15:24:32|Actrius (Actresse...|\n",
      "|332|     Animalia (book)|2008-12-18 11:12:34|thumbAnimalia (IS...|\n",
      "|334|International Ato...|2008-11-21 22:40:20|International Ato...|\n",
      "|336|            Altruism|2008-12-27 03:57:17|Altruism is selfl...|\n",
      "|339|            Ayn Rand|2008-12-30 08:03:06|Ayn Rand (,  – Ma...|\n",
      "|340|        Alain Connes|2008-09-03 13:41:39|Alain Connes (bor...|\n",
      "|344|          Allan Dwan|2008-11-14 05:28:58|Allan Dwan (April...|\n",
      "|358|             Algeria|2008-12-29 02:54:36|Algeria (, al-Jaz...|\n",
      "|359|List of character...|2008-12-23 20:20:21|This is a list of...|\n",
      "|569|        Anthropology|2008-12-28 23:04:30|Anthropology (, f...|\n",
      "+---+--------------------+-------------------+--------------------+\n",
      "only showing top 20 rows"
     ]
    }
   ],
   "source": [
    "articles = rawdata.toDF(\"ID\", \"Title\", \"Time\", \"Document\")\n",
    "articles.show()"
   ]
  },
  {
   "cell_type": "markdown",
   "id": "76e98d68-381a-442b-b276-73cbeadade3e",
   "metadata": {},
   "source": [
    "Agora, faremos a limpeza de dados. Primeiro, checar se existem documentos nulos."
   ]
  },
  {
   "cell_type": "code",
   "execution_count": 50,
   "id": "32588c28-fdc4-4389-8d5d-3065c8d37a3d",
   "metadata": {
    "execution": {
     "iopub.execute_input": "2025-09-16T01:02:08.719857Z",
     "iopub.status.busy": "2025-09-16T01:02:08.719541Z",
     "iopub.status.idle": "2025-09-16T01:02:09.602492Z",
     "shell.execute_reply": "2025-09-16T01:02:09.601747Z",
     "shell.execute_reply.started": "2025-09-16T01:02:08.719831Z"
    },
    "executionRoleArn": "arn:aws:iam::904233096976:role/service-role/AmazonEMRStudio_RuntimeRole_1757979133869",
    "tags": []
   },
   "outputs": [
    {
     "data": {
      "application/vnd.jupyter.widget-view+json": {
       "model_id": "70691b2e855649da8852d1354f8dcdf5",
       "version_major": 2,
       "version_minor": 0
      },
      "text/plain": [
       "VBox()"
      ]
     },
     "metadata": {},
     "output_type": "display_data"
    },
    {
     "data": {
      "application/vnd.jupyter.widget-view+json": {
       "model_id": "",
       "version_major": 2,
       "version_minor": 0
      },
      "text/plain": [
       "FloatProgress(value=0.0, bar_style='info', description='Progress:', layout=Layout(height='25px', width='50%'),…"
      ]
     },
     "metadata": {},
     "output_type": "display_data"
    },
    {
     "name": "stdout",
     "output_type": "stream",
     "text": [
      "+----+--------------------+-------------------+--------+\n",
      "|  ID|               Title|               Time|Document|\n",
      "+----+--------------------+-------------------+--------+\n",
      "|1109|Geography of Amer...|2008-09-29 11:21:06|    null|\n",
      "+----+--------------------+-------------------+--------+"
     ]
    }
   ],
   "source": [
    "articles.filter(articles.Document.isNull()).show()"
   ]
  },
  {
   "cell_type": "markdown",
   "id": "4a925d14-1225-4de1-982d-52056299549f",
   "metadata": {},
   "source": [
    "Temos um documento nulo, iremos apagá-lo."
   ]
  },
  {
   "cell_type": "code",
   "execution_count": 51,
   "id": "1edc736d-fd9e-4114-9e9d-1d8d90cb985a",
   "metadata": {
    "execution": {
     "iopub.execute_input": "2025-09-16T01:02:09.603846Z",
     "iopub.status.busy": "2025-09-16T01:02:09.603506Z",
     "iopub.status.idle": "2025-09-16T01:02:10.496551Z",
     "shell.execute_reply": "2025-09-16T01:02:10.495783Z",
     "shell.execute_reply.started": "2025-09-16T01:02:09.603821Z"
    },
    "executionRoleArn": "arn:aws:iam::904233096976:role/service-role/AmazonEMRStudio_RuntimeRole_1757979133869",
    "tags": []
   },
   "outputs": [
    {
     "data": {
      "application/vnd.jupyter.widget-view+json": {
       "model_id": "6f45cb4c1ff04a30a085b993d24634f2",
       "version_major": 2,
       "version_minor": 0
      },
      "text/plain": [
       "VBox()"
      ]
     },
     "metadata": {},
     "output_type": "display_data"
    },
    {
     "data": {
      "application/vnd.jupyter.widget-view+json": {
       "model_id": "",
       "version_major": 2,
       "version_minor": 0
      },
      "text/plain": [
       "FloatProgress(value=0.0, bar_style='info', description='Progress:', layout=Layout(height='25px', width='50%'),…"
      ]
     },
     "metadata": {},
     "output_type": "display_data"
    },
    {
     "name": "stdout",
     "output_type": "stream",
     "text": [
      "+---+-----+----+--------+\n",
      "| ID|Title|Time|Document|\n",
      "+---+-----+----+--------+\n",
      "+---+-----+----+--------+"
     ]
    }
   ],
   "source": [
    "cleanedArticles = articles.filter(articles.Document.isNotNull())\n",
    "cleanedArticles.filter(articles.Document.isNull()).show()"
   ]
  },
  {
   "cell_type": "markdown",
   "id": "ff5a6112-640d-4e70-9590-2c300e676f0e",
   "metadata": {},
   "source": [
    "Como o TF-IDF trabalha em cima de números e não palavras, precisamos pré-processar (tokenizar) dados antes de rodar algoritmos. Primeiro, tokenizar documentos separando por palavras, depois armazenando em um vetor que contém a representação numérica (hashing) das palavras de cada documento."
   ]
  },
  {
   "cell_type": "code",
   "execution_count": 52,
   "id": "3b74d52d-eca9-41eb-b771-1c20d226967b",
   "metadata": {
    "execution": {
     "iopub.execute_input": "2025-09-16T01:02:10.497882Z",
     "iopub.status.busy": "2025-09-16T01:02:10.497551Z",
     "iopub.status.idle": "2025-09-16T01:02:10.630830Z",
     "shell.execute_reply": "2025-09-16T01:02:10.630199Z",
     "shell.execute_reply.started": "2025-09-16T01:02:10.497856Z"
    },
    "executionRoleArn": "arn:aws:iam::904233096976:role/service-role/AmazonEMRStudio_RuntimeRole_1757979133869",
    "tags": []
   },
   "outputs": [
    {
     "data": {
      "application/vnd.jupyter.widget-view+json": {
       "model_id": "9e61ad67bbf948fd86cb8f175ea7ccb5",
       "version_major": 2,
       "version_minor": 0
      },
      "text/plain": [
       "VBox()"
      ]
     },
     "metadata": {},
     "output_type": "display_data"
    },
    {
     "data": {
      "application/vnd.jupyter.widget-view+json": {
       "model_id": "",
       "version_major": 2,
       "version_minor": 0
      },
      "text/plain": [
       "FloatProgress(value=0.0, bar_style='info', description='Progress:', layout=Layout(height='25px', width='50%'),…"
      ]
     },
     "metadata": {},
     "output_type": "display_data"
    }
   ],
   "source": [
    "from pyspark.ml.feature import HashingTF, IDF, Tokenizer \n",
    "\n",
    "tokenizer= Tokenizer(inputCol=\"Document\", outputCol=\"words\") # Transforma string em lista de palavras\n",
    "wordsData = tokenizer.transform(cleanedArticles)"
   ]
  },
  {
   "cell_type": "code",
   "execution_count": 53,
   "id": "d5cff6d6-86d8-49b7-bc49-5e7e7bb70037",
   "metadata": {
    "execution": {
     "iopub.execute_input": "2025-09-16T01:02:10.632101Z",
     "iopub.status.busy": "2025-09-16T01:02:10.631808Z",
     "iopub.status.idle": "2025-09-16T01:02:11.567202Z",
     "shell.execute_reply": "2025-09-16T01:02:11.566461Z",
     "shell.execute_reply.started": "2025-09-16T01:02:10.632076Z"
    },
    "executionRoleArn": "arn:aws:iam::904233096976:role/service-role/AmazonEMRStudio_RuntimeRole_1757979133869",
    "tags": []
   },
   "outputs": [
    {
     "data": {
      "application/vnd.jupyter.widget-view+json": {
       "model_id": "97fe1a26719147e8bbe479840dc50962",
       "version_major": 2,
       "version_minor": 0
      },
      "text/plain": [
       "VBox()"
      ]
     },
     "metadata": {},
     "output_type": "display_data"
    },
    {
     "data": {
      "application/vnd.jupyter.widget-view+json": {
       "model_id": "",
       "version_major": 2,
       "version_minor": 0
      },
      "text/plain": [
       "FloatProgress(value=0.0, bar_style='info', description='Progress:', layout=Layout(height='25px', width='50%'),…"
      ]
     },
     "metadata": {},
     "output_type": "display_data"
    },
    {
     "name": "stdout",
     "output_type": "stream",
     "text": [
      "+---+--------------------+-------------------+--------------------+--------------------+--------------------+\n",
      "| ID|               Title|               Time|            Document|               words|         rawFeatures|\n",
      "+---+--------------------+-------------------+--------------------+--------------------+--------------------+\n",
      "| 12|           Anarchism|2008-12-30 06:23:05|Anarchism (someti...|[anarchism, (some...|(262144,[116,120,...|\n",
      "| 25|              Autism|2008-12-24 20:41:05|Autism is a brain...|[autism, is, a, b...|(262144,[521,1546...|\n",
      "| 39|              Albedo|2008-12-29 18:19:09|The albedo of an ...|[the, albedo, of,...|(262144,[1625,179...|\n",
      "|290|                   A|2008-12-27 04:33:16|The letter A is t...|[the, letter, a, ...|(262144,[5303,603...|\n",
      "|303|             Alabama|2008-12-29 08:15:47|Alabama (formally...|[alabama, (formal...|(262144,[93,115,3...|\n",
      "|305|            Achilles|2008-12-30 06:18:01|thumb\\n\\nIn Greek...|[thumb\\n\\nin, gre...|(262144,[305,991,...|\n",
      "|307|     Abraham Lincoln|2008-12-28 20:18:23|Abraham Lincoln (...|[abraham, lincoln...|(262144,[115,440,...|\n",
      "|308|           Aristotle|2008-12-29 23:54:48|Aristotle (Greek:...|[aristotle, (gree...|(262144,[154,619,...|\n",
      "|309|An American in Paris|2008-09-27 19:29:28|An American in Pa...|[an, american, in...|(262144,[2366,313...|\n",
      "|324|       Academy Award|2008-12-28 17:50:43|The Academy Award...|[the, academy, aw...|(262144,[161,521,...|\n",
      "|330|             Actrius|2008-05-23 15:24:32|Actrius (Actresse...|[actrius, (actres...|(262144,[6558,674...|\n",
      "|332|     Animalia (book)|2008-12-18 11:12:34|thumbAnimalia (IS...|[thumbanimalia, (...|(262144,[2284,609...|\n",
      "|334|International Ato...|2008-11-21 22:40:20|International Ato...|[international, a...|(262144,[847,925,...|\n",
      "|336|            Altruism|2008-12-27 03:57:17|Altruism is selfl...|[altruism, is, se...|(262144,[521,1272...|\n",
      "|339|            Ayn Rand|2008-12-30 08:03:06|Ayn Rand (,  – Ma...|[ayn, rand, (,, ,...|(262144,[116,365,...|\n",
      "|340|        Alain Connes|2008-09-03 13:41:39|Alain Connes (bor...|[alain, connes, (...|(262144,[154,1595...|\n",
      "|344|          Allan Dwan|2008-11-14 05:28:58|Allan Dwan (April...|[allan, dwan, (ap...|(262144,[1578,181...|\n",
      "|358|             Algeria|2008-12-29 02:54:36|Algeria (, al-Jaz...|[algeria, (,, al-...|(262144,[161,369,...|\n",
      "|359|List of character...|2008-12-23 20:20:21|This is a list of...|[this, is, a, lis...|(262144,[19,120,3...|\n",
      "|569|        Anthropology|2008-12-28 23:04:30|Anthropology (, f...|[anthropology, (,...|(262144,[154,528,...|\n",
      "+---+--------------------+-------------------+--------------------+--------------------+--------------------+\n",
      "only showing top 20 rows"
     ]
    }
   ],
   "source": [
    "hashingTF = HashingTF(inputCol=\"words\", outputCol=\"rawFeatures\") # Transforma lista de palavras em hash ([palavras],[quantidade])\n",
    "featurizedData = hashingTF.transform(wordsData)\n",
    "featurizedData.show()"
   ]
  },
  {
   "cell_type": "markdown",
   "id": "fe626404-a76c-4a2c-b11b-5bbf31d62af9",
   "metadata": {},
   "source": [
    "Agora temos TF (Term Frequency) (Frequência de cada palavra em cada documento) e temos que achar TF-IDF (Inverse Document Frequency). Esse valor será calculado para cada termo em cada documento, e será guardado em \"features\", um vetor para cada atributo."
   ]
  },
  {
   "cell_type": "code",
   "execution_count": 54,
   "id": "6a5fb92c-1fd3-48d8-b86e-0a9664dd4cee",
   "metadata": {
    "execution": {
     "iopub.execute_input": "2025-09-16T01:02:11.568871Z",
     "iopub.status.busy": "2025-09-16T01:02:11.568219Z",
     "iopub.status.idle": "2025-09-16T01:02:12.977670Z",
     "shell.execute_reply": "2025-09-16T01:02:12.977024Z",
     "shell.execute_reply.started": "2025-09-16T01:02:11.568842Z"
    },
    "executionRoleArn": "arn:aws:iam::904233096976:role/service-role/AmazonEMRStudio_RuntimeRole_1757979133869",
    "tags": []
   },
   "outputs": [
    {
     "data": {
      "application/vnd.jupyter.widget-view+json": {
       "model_id": "6b6f97aadb7f41f8af038d3b2ba2d0c0",
       "version_major": 2,
       "version_minor": 0
      },
      "text/plain": [
       "VBox()"
      ]
     },
     "metadata": {},
     "output_type": "display_data"
    },
    {
     "data": {
      "application/vnd.jupyter.widget-view+json": {
       "model_id": "",
       "version_major": 2,
       "version_minor": 0
      },
      "text/plain": [
       "FloatProgress(value=0.0, bar_style='info', description='Progress:', layout=Layout(height='25px', width='50%'),…"
      ]
     },
     "metadata": {},
     "output_type": "display_data"
    }
   ],
   "source": [
    "idf = IDF(inputCol=\"rawFeatures\", outputCol=\"features\")\n",
    "idfModel = idf.fit(featurizedData) # Conta em quantos documentos cada termo ocorre e calcula os pesos de cada posição do vetor\n",
    "rescaledData = idfModel.transform(featurizedData) # Aplica modelo treinado sobre cada doc e multiplica TF por IDF"
   ]
  },
  {
   "cell_type": "code",
   "execution_count": 55,
   "id": "f452acfe-c743-4099-9411-04ed4a19f2d6",
   "metadata": {
    "execution": {
     "iopub.execute_input": "2025-09-16T01:02:12.978940Z",
     "iopub.status.busy": "2025-09-16T01:02:12.978633Z",
     "iopub.status.idle": "2025-09-16T01:02:13.955532Z",
     "shell.execute_reply": "2025-09-16T01:02:13.954795Z",
     "shell.execute_reply.started": "2025-09-16T01:02:12.978914Z"
    },
    "executionRoleArn": "arn:aws:iam::904233096976:role/service-role/AmazonEMRStudio_RuntimeRole_1757979133869",
    "tags": []
   },
   "outputs": [
    {
     "data": {
      "application/vnd.jupyter.widget-view+json": {
       "model_id": "cd06da3253924c67b90395755d8957e3",
       "version_major": 2,
       "version_minor": 0
      },
      "text/plain": [
       "VBox()"
      ]
     },
     "metadata": {},
     "output_type": "display_data"
    },
    {
     "data": {
      "application/vnd.jupyter.widget-view+json": {
       "model_id": "",
       "version_major": 2,
       "version_minor": 0
      },
      "text/plain": [
       "FloatProgress(value=0.0, bar_style='info', description='Progress:', layout=Layout(height='25px', width='50%'),…"
      ]
     },
     "metadata": {},
     "output_type": "display_data"
    },
    {
     "name": "stdout",
     "output_type": "stream",
     "text": [
      "+---+--------------------+-------------------+--------------------+--------------------+--------------------+--------------------+\n",
      "| ID|               Title|               Time|            Document|               words|         rawFeatures|            features|\n",
      "+---+--------------------+-------------------+--------------------+--------------------+--------------------+--------------------+\n",
      "| 12|           Anarchism|2008-12-30 06:23:05|Anarchism (someti...|[anarchism, (some...|(262144,[116,120,...|(262144,[116,120,...|\n",
      "| 25|              Autism|2008-12-24 20:41:05|Autism is a brain...|[autism, is, a, b...|(262144,[521,1546...|(262144,[521,1546...|\n",
      "| 39|              Albedo|2008-12-29 18:19:09|The albedo of an ...|[the, albedo, of,...|(262144,[1625,179...|(262144,[1625,179...|\n",
      "|290|                   A|2008-12-27 04:33:16|The letter A is t...|[the, letter, a, ...|(262144,[5303,603...|(262144,[5303,603...|\n",
      "|303|             Alabama|2008-12-29 08:15:47|Alabama (formally...|[alabama, (formal...|(262144,[93,115,3...|(262144,[93,115,3...|\n",
      "|305|            Achilles|2008-12-30 06:18:01|thumb\\n\\nIn Greek...|[thumb\\n\\nin, gre...|(262144,[305,991,...|(262144,[305,991,...|\n",
      "|307|     Abraham Lincoln|2008-12-28 20:18:23|Abraham Lincoln (...|[abraham, lincoln...|(262144,[115,440,...|(262144,[115,440,...|\n",
      "|308|           Aristotle|2008-12-29 23:54:48|Aristotle (Greek:...|[aristotle, (gree...|(262144,[154,619,...|(262144,[154,619,...|\n",
      "|309|An American in Paris|2008-09-27 19:29:28|An American in Pa...|[an, american, in...|(262144,[2366,313...|(262144,[2366,313...|\n",
      "|324|       Academy Award|2008-12-28 17:50:43|The Academy Award...|[the, academy, aw...|(262144,[161,521,...|(262144,[161,521,...|\n",
      "|330|             Actrius|2008-05-23 15:24:32|Actrius (Actresse...|[actrius, (actres...|(262144,[6558,674...|(262144,[6558,674...|\n",
      "|332|     Animalia (book)|2008-12-18 11:12:34|thumbAnimalia (IS...|[thumbanimalia, (...|(262144,[2284,609...|(262144,[2284,609...|\n",
      "|334|International Ato...|2008-11-21 22:40:20|International Ato...|[international, a...|(262144,[847,925,...|(262144,[847,925,...|\n",
      "|336|            Altruism|2008-12-27 03:57:17|Altruism is selfl...|[altruism, is, se...|(262144,[521,1272...|(262144,[521,1272...|\n",
      "|339|            Ayn Rand|2008-12-30 08:03:06|Ayn Rand (,  – Ma...|[ayn, rand, (,, ,...|(262144,[116,365,...|(262144,[116,365,...|\n",
      "|340|        Alain Connes|2008-09-03 13:41:39|Alain Connes (bor...|[alain, connes, (...|(262144,[154,1595...|(262144,[154,1595...|\n",
      "|344|          Allan Dwan|2008-11-14 05:28:58|Allan Dwan (April...|[allan, dwan, (ap...|(262144,[1578,181...|(262144,[1578,181...|\n",
      "|358|             Algeria|2008-12-29 02:54:36|Algeria (, al-Jaz...|[algeria, (,, al-...|(262144,[161,369,...|(262144,[161,369,...|\n",
      "|359|List of character...|2008-12-23 20:20:21|This is a list of...|[this, is, a, lis...|(262144,[19,120,3...|(262144,[19,120,3...|\n",
      "|569|        Anthropology|2008-12-28 23:04:30|Anthropology (, f...|[anthropology, (,...|(262144,[154,528,...|(262144,[154,528,...|\n",
      "+---+--------------------+-------------------+--------------------+--------------------+--------------------+--------------------+\n",
      "only showing top 20 rows"
     ]
    }
   ],
   "source": [
    "rescaledData.show()"
   ]
  },
  {
   "cell_type": "markdown",
   "id": "c6e3c521-1542-4f23-9bb7-8217403aa5ff",
   "metadata": {},
   "source": [
    "Vamos fazer um exemplo. Queremos procurar e saber a relevância do termo \"international\". Para isso, temos que aplicar o mesmo hash anterior à palavra."
   ]
  },
  {
   "cell_type": "code",
   "execution_count": 59,
   "id": "d18e0581-6a32-4ff8-b075-289128f77c98",
   "metadata": {
    "execution": {
     "iopub.execute_input": "2025-09-16T01:05:16.931420Z",
     "iopub.status.busy": "2025-09-16T01:05:16.930976Z",
     "iopub.status.idle": "2025-09-16T01:05:17.845319Z",
     "shell.execute_reply": "2025-09-16T01:05:17.844669Z",
     "shell.execute_reply.started": "2025-09-16T01:05:16.931391Z"
    },
    "executionRoleArn": "arn:aws:iam::904233096976:role/service-role/AmazonEMRStudio_RuntimeRole_1757979133869",
    "tags": []
   },
   "outputs": [
    {
     "data": {
      "application/vnd.jupyter.widget-view+json": {
       "model_id": "650f30643a22430a85b341cb02abbbdf",
       "version_major": 2,
       "version_minor": 0
      },
      "text/plain": [
       "VBox()"
      ]
     },
     "metadata": {},
     "output_type": "display_data"
    },
    {
     "data": {
      "application/vnd.jupyter.widget-view+json": {
       "model_id": "",
       "version_major": 2,
       "version_minor": 0
      },
      "text/plain": [
       "FloatProgress(value=0.0, bar_style='info', description='Progress:', layout=Layout(height='25px', width='50%'),…"
      ]
     },
     "metadata": {},
     "output_type": "display_data"
    },
    {
     "name": "stdout",
     "output_type": "stream",
     "text": [
      "+---------------+\n",
      "|          words|\n",
      "+---------------+\n",
      "|[international]|\n",
      "+---------------+\n",
      "\n",
      "+---------------+--------------------+\n",
      "|          words|         rawFeatures|\n",
      "+---------------+--------------------+\n",
      "|[international]|(262144,[26092],[...|\n",
      "+---------------+--------------------+\n",
      "\n",
      "[Row(rawFeatures=SparseVector(262144, {26092: 1.0}))]\n",
      "26092"
     ]
    }
   ],
   "source": [
    "from pyspark.sql.types import *\n",
    "\n",
    "schema = StructType([StructField(\"words\", ArrayType(StringType()))]) # Define schema do dataframe que conterá lista de palavras\n",
    "\n",
    "df = spark.createDataFrame(([[[\"international\"]]]), schema).toDF(\"words\") # Cria esse dataframe de teste com apenas \"international\"\n",
    "df.show()\n",
    "\n",
    "international = hashingTF.transform(df) # Aplica hash\n",
    "international.show()\n",
    "\n",
    "featureVec = international.select('rawFeatures').collect() # Transforma coluna rawFeatures para lista \n",
    "print(featureVec)\n",
    "\n",
    "internationalID = int(featureVec[0].rawFeatures.indices[0]) # Pega o id de \"international\"\n",
    "print(internationalID)"
   ]
  },
  {
   "cell_type": "markdown",
   "id": "bb9ba586-90f0-4042-9605-4ec4503d217f",
   "metadata": {},
   "source": [
    "A partir do ID, podemos calcular o valor TF-IDF de \"international\" para cada documento."
   ]
  },
  {
   "cell_type": "code",
   "execution_count": 62,
   "id": "c093b7e6-9e6d-4469-a11f-85ebaf8ccd07",
   "metadata": {
    "execution": {
     "iopub.execute_input": "2025-09-16T01:08:48.773642Z",
     "iopub.status.busy": "2025-09-16T01:08:48.773212Z",
     "iopub.status.idle": "2025-09-16T01:08:50.271148Z",
     "shell.execute_reply": "2025-09-16T01:08:50.270494Z",
     "shell.execute_reply.started": "2025-09-16T01:08:48.773610Z"
    },
    "executionRoleArn": "arn:aws:iam::904233096976:role/service-role/AmazonEMRStudio_RuntimeRole_1757979133869",
    "tags": []
   },
   "outputs": [
    {
     "data": {
      "application/vnd.jupyter.widget-view+json": {
       "model_id": "939b97205ba242d19770b8aeabe55dbc",
       "version_major": 2,
       "version_minor": 0
      },
      "text/plain": [
       "VBox()"
      ]
     },
     "metadata": {},
     "output_type": "display_data"
    },
    {
     "data": {
      "application/vnd.jupyter.widget-view+json": {
       "model_id": "",
       "version_major": 2,
       "version_minor": 0
      },
      "text/plain": [
       "FloatProgress(value=0.0, bar_style='info', description='Progress:', layout=Layout(height='25px', width='50%'),…"
      ]
     },
     "metadata": {},
     "output_type": "display_data"
    },
    {
     "name": "stdout",
     "output_type": "stream",
     "text": [
      "+---+--------------------+-------------------+--------------------+--------------------+--------------------+--------------------+---------+\n",
      "| ID|               Title|               Time|            Document|               words|         rawFeatures|            features|    score|\n",
      "+---+--------------------+-------------------+--------------------+--------------------+--------------------+--------------------+---------+\n",
      "| 12|           Anarchism|2008-12-30 06:23:05|Anarchism (someti...|[anarchism, (some...|(262144,[116,120,...|(262144,[116,120,...|30.247606|\n",
      "| 25|              Autism|2008-12-24 20:41:05|Autism is a brain...|[autism, is, a, b...|(262144,[521,1546...|(262144,[521,1546...|      0.0|\n",
      "| 39|              Albedo|2008-12-29 18:19:09|The albedo of an ...|[the, albedo, of,...|(262144,[1625,179...|(262144,[1625,179...|      0.0|\n",
      "|290|                   A|2008-12-27 04:33:16|The letter A is t...|[the, letter, a, ...|(262144,[5303,603...|(262144,[5303,603...|1.8904754|\n",
      "|303|             Alabama|2008-12-29 08:15:47|Alabama (formally...|[alabama, (formal...|(262144,[93,115,3...|(262144,[93,115,3...|11.342853|\n",
      "|305|            Achilles|2008-12-30 06:18:01|thumb\\n\\nIn Greek...|[thumb\\n\\nin, gre...|(262144,[305,991,...|(262144,[305,991,...|      0.0|\n",
      "|307|     Abraham Lincoln|2008-12-28 20:18:23|Abraham Lincoln (...|[abraham, lincoln...|(262144,[115,440,...|(262144,[115,440,...|1.8904754|\n",
      "|308|           Aristotle|2008-12-29 23:54:48|Aristotle (Greek:...|[aristotle, (gree...|(262144,[154,619,...|(262144,[154,619,...|      0.0|\n",
      "|309|An American in Paris|2008-09-27 19:29:28|An American in Pa...|[an, american, in...|(262144,[2366,313...|(262144,[2366,313...|      0.0|\n",
      "|324|       Academy Award|2008-12-28 17:50:43|The Academy Award...|[the, academy, aw...|(262144,[161,521,...|(262144,[161,521,...|      0.0|\n",
      "|330|             Actrius|2008-05-23 15:24:32|Actrius (Actresse...|[actrius, (actres...|(262144,[6558,674...|(262144,[6558,674...|1.8904754|\n",
      "|332|     Animalia (book)|2008-12-18 11:12:34|thumbAnimalia (IS...|[thumbanimalia, (...|(262144,[2284,609...|(262144,[2284,609...|      0.0|\n",
      "|334|International Ato...|2008-11-21 22:40:20|International Ato...|[international, a...|(262144,[847,925,...|(262144,[847,925,...|5.6714263|\n",
      "|336|            Altruism|2008-12-27 03:57:17|Altruism is selfl...|[altruism, is, se...|(262144,[521,1272...|(262144,[521,1272...|1.8904754|\n",
      "|339|            Ayn Rand|2008-12-30 08:03:06|Ayn Rand (,  – Ma...|[ayn, rand, (,, ,...|(262144,[116,365,...|(262144,[116,365,...|5.6714263|\n",
      "|340|        Alain Connes|2008-09-03 13:41:39|Alain Connes (bor...|[alain, connes, (...|(262144,[154,1595...|(262144,[154,1595...|      0.0|\n",
      "|344|          Allan Dwan|2008-11-14 05:28:58|Allan Dwan (April...|[allan, dwan, (ap...|(262144,[1578,181...|(262144,[1578,181...|      0.0|\n",
      "|358|             Algeria|2008-12-29 02:54:36|Algeria (, al-Jaz...|[algeria, (,, al-...|(262144,[161,369,...|(262144,[161,369,...|1.8904754|\n",
      "|359|List of character...|2008-12-23 20:20:21|This is a list of...|[this, is, a, lis...|(262144,[19,120,3...|(262144,[19,120,3...|      0.0|\n",
      "|569|        Anthropology|2008-12-28 23:04:30|Anthropology (, f...|[anthropology, (,...|(262144,[154,528,...|(262144,[154,528,...|      0.0|\n",
      "+---+--------------------+-------------------+--------------------+--------------------+--------------------+--------------------+---------+\n",
      "only showing top 20 rows"
     ]
    }
   ],
   "source": [
    "from pyspark.sql.types import FloatType\n",
    "from pyspark.sql.functions import udf\n",
    "\n",
    "termExtractor = udf(lambda x: float(x[internationalID]), FloatType()) #\n",
    "gettysburgDF = rescaledData.withColumn('score', termExtractor(rescaledData.features)) #\n",
    "\n",
    "gettysburgDF.show()\n",
    "                                                        "
   ]
  },
  {
   "cell_type": "markdown",
   "id": "af4420e6-f6e2-4151-8ac1-ac35fba42040",
   "metadata": {},
   "source": [
    "Rankeando por score, teremos os artigos em que \"international\" tem mais valor."
   ]
  },
  {
   "cell_type": "code",
   "execution_count": 63,
   "id": "66a93a5a-f2e3-48b9-b216-000b8361eee4",
   "metadata": {
    "execution": {
     "iopub.execute_input": "2025-09-16T01:08:51.971988Z",
     "iopub.status.busy": "2025-09-16T01:08:51.971558Z",
     "iopub.status.idle": "2025-09-16T01:08:54.441003Z",
     "shell.execute_reply": "2025-09-16T01:08:54.440371Z",
     "shell.execute_reply.started": "2025-09-16T01:08:51.971959Z"
    },
    "executionRoleArn": "arn:aws:iam::904233096976:role/service-role/AmazonEMRStudio_RuntimeRole_1757979133869",
    "tags": []
   },
   "outputs": [
    {
     "data": {
      "application/vnd.jupyter.widget-view+json": {
       "model_id": "2eba221854b64b2bacd54169cd6869f2",
       "version_major": 2,
       "version_minor": 0
      },
      "text/plain": [
       "VBox()"
      ]
     },
     "metadata": {},
     "output_type": "display_data"
    },
    {
     "data": {
      "application/vnd.jupyter.widget-view+json": {
       "model_id": "",
       "version_major": 2,
       "version_minor": 0
      },
      "text/plain": [
       "FloatProgress(value=0.0, bar_style='info', description='Progress:', layout=Layout(height='25px', width='50%'),…"
      ]
     },
     "metadata": {},
     "output_type": "display_data"
    },
    {
     "name": "stdout",
     "output_type": "stream",
     "text": [
      "+----+-------------------------------------+----------------------------------------------------------------------------------------------------+---------+\n",
      "|  ID|                                Title|                                                                                            Document|    score|\n",
      "+----+-------------------------------------+----------------------------------------------------------------------------------------------------+---------+\n",
      "|2386|                    American Airlines|American Airlines, Inc. (AA) is a US-based airline, the world's largest in passenger miles transp...|30.247606|\n",
      "|  12|                            Anarchism|Anarchism (sometimes referred to as libertarianism, though that term sometimes has other meanings...|30.247606|\n",
      "|1942|                              Airline|An airline provides air transport services for passenger or freight, generally with a recognized ...|26.466656|\n",
      "|1216|                               Athens|Athens (; , Athina, ), the capital and largest city of Greece, dominates the Attica periphery; as...|26.466656|\n",
      "| 737|                          Afghanistan|Afghanistan (), officially the Islamic Republic of Afghanistan (,  ), is a landlocked country tha...|22.685705|\n",
      "| 746|                           Azerbaijan|Azerbaijan (Pronounced ; ), officially the Republic of Azerbaijan (), is the largest and most pop...|20.795229|\n",
      "| 880|                                 ABBA|ABBA was a Swedish pop music group. The band consisted of Benny Andersson (Sweden), Björn Ulvaeus...|20.795229|\n",
      "| 659|American National Standards Institute|The American National Standards Institute or ANSI () is a private non-profit organization that ov...|18.904755|\n",
      "|1214|                          Anglicanism|Anglicanism is a tradition of Christian faith. Churches in this tradition either have historical ...|18.904755|\n",
      "|1148|                             Adelaide|thumbAdelaide is the capital and most populous city of the Australia state of South Australia, an...|17.014278|\n",
      "|1627|                             Aberdeen|Aberdeen (pronounced ; , ) is Scotland's third most populous city and one of Scotland's 32 local ...|15.123803|\n",
      "| 576|                              Austria|Austria  () (), officially the Republic of Austria () (), is a landlocked country in Central Euro...|15.123803|\n",
      "| 844|                            Amsterdam|Amsterdam (pronounced ) is the capital and largest city of the Netherlands, located in the provin...|15.123803|\n",
      "| 586|                                ASCII|frameAmerican Standard Code for Information Interchange (ASCII),  is a character-encoding scheme ...|13.233328|\n",
      "|1797|                                 Acre|The acre is a unit of area in a number of different systems, including the imperial and U.S. cust...|11.342853|\n",
      "| 303|                              Alabama|Alabama (formally, the State of Alabama; ) is a state located in the southern region of the Unite...|11.342853|\n",
      "|1902|          American Airlines Flight 77|American Airlines Flight 77 was the third flight hijacked as part of the September 11 attacks, an...|11.342853|\n",
      "|1921|                             Al-Qaeda|[[File:RecentAlQaedaAttacks.svg|thumb|400px|Map of recent major attacks attributed to al-Qaeda:1....|11.342853|\n",
      "|2007|                              Archery|Archery is the practice of using a bow that is drawn by hand and held, free of any mechanical dev...|11.342853|\n",
      "| 717|                              Alberta|Alberta () is one of Canada's prairie provinces. It became a province on September 1, 1905.\\n\\nAl...| 9.452377|\n",
      "+----+-------------------------------------+----------------------------------------------------------------------------------------------------+---------+\n",
      "only showing top 20 rows"
     ]
    }
   ],
   "source": [
    "sortedResults = gettysburgDF.filter(\"score > 0\").orderBy('score', ascending=False).select('ID', 'Title', 'Document', 'score')\n",
    "sortedResults.show(truncate=100)"
   ]
  },
  {
   "cell_type": "code",
   "execution_count": null,
   "id": "a9ded2ec-47ed-4174-871a-70146083beb2",
   "metadata": {
    "executionRoleArn": "arn:aws:iam::904233096976:role/service-role/AmazonEMRStudio_RuntimeRole_1757979133869",
    "tags": []
   },
   "outputs": [],
   "source": []
  }
 ],
 "metadata": {
  "kernelspec": {
   "display_name": "PySpark",
   "language": "python",
   "name": "spark_magic_pyspark"
  },
  "language_info": {
   "codemirror_mode": {
    "name": "python",
    "version": 3
   },
   "file_extension": ".py",
   "mimetype": "text/x-python",
   "name": "pyspark",
   "pygments_lexer": "python3"
  }
 },
 "nbformat": 4,
 "nbformat_minor": 5
}
